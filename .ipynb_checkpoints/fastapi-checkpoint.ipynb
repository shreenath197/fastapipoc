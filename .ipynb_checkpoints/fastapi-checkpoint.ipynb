{
 "cells": [
  {
   "cell_type": "code",
   "execution_count": 8,
   "id": "d1da0e95-a0f0-4aa0-934a-f9bec9727b99",
   "metadata": {},
   "outputs": [],
   "source": [
    "from fastapi import FastAPI\n",
    "from claim_amount import Claim\n",
    "import pandas as pd"
   ]
  },
  {
   "cell_type": "code",
   "execution_count": 9,
   "id": "bfe92d59-9d9c-44f2-a026-ab0bcb34d13c",
   "metadata": {},
   "outputs": [],
   "source": [
    "app= FastAPI(\n",
    "    title=\"Insurance Claim Prediction Amount Model\",\n",
    "    description=\"API providong Insurance Claim Prediction Amount based on input features\"\n",
    ")"
   ]
  },
  {
   "cell_type": "code",
   "execution_count": 10,
   "id": "bd1e7d94-ffea-43bc-8295-92136ac8b5d8",
   "metadata": {},
   "outputs": [],
   "source": [
    "@app.get(\"/\")\n",
    "def index():\n",
    "    return \"Wecome\""
   ]
  },
  {
   "cell_type": "code",
   "execution_count": 14,
   "id": "dc77449b-821f-48d8-99c0-514da28a35a1",
   "metadata": {},
   "outputs": [],
   "source": [
    "@app.post(\"/predic\")\n",
    "def makePrediction(claim:Claim):\n",
    "    new_data=pd.DataFrame(data=dict(\n",
    "        wind=[claim.wind],\n",
    "        rain=[claim.rain],\n",
    "        area=[claim.area]\n",
    "    ))\n",
    "   "
   ]
  },
  {
   "cell_type": "code",
   "execution_count": 15,
   "id": "2d3b8aa3-1559-4124-be48-50bba120d242",
   "metadata": {},
   "outputs": [],
   "source": [
    "import joblib\n",
    "model=joblib.load(\"svm_Linear.joblib\")\n",
    "predicted_value=saved__model.predict(new_input)[0]\n",
    "return predicted_value"
   ]
  },
  {
   "cell_type": "code",
   "execution_count": null,
   "id": "86a8e4a3-d08c-4cf7-a223-c08c3273af77",
   "metadata": {},
   "outputs": [],
   "source": []
  }
 ],
 "metadata": {
  "kernelspec": {
   "display_name": "Python 3 (ipykernel)",
   "language": "python",
   "name": "python3"
  },
  "language_info": {
   "codemirror_mode": {
    "name": "ipython",
    "version": 3
   },
   "file_extension": ".py",
   "mimetype": "text/x-python",
   "name": "python",
   "nbconvert_exporter": "python",
   "pygments_lexer": "ipython3",
   "version": "3.12.2"
  }
 },
 "nbformat": 4,
 "nbformat_minor": 5
}
