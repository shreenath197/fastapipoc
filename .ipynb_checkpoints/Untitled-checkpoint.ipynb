{
 "cells": [
  {
   "cell_type": "code",
   "execution_count": 2,
   "id": "e79b8469-17e4-47ca-9cda-f04e97c55ca9",
   "metadata": {},
   "outputs": [],
   "source": [
    "from fastapi import FastAPI\n",
    "from claim_model_prediction import Claim\n",
    "import pandas as pd\n",
    "import joblib"
   ]
  },
  {
   "cell_type": "code",
   "execution_count": 3,
   "id": "3e9d0181-d151-4ed5-9159-913f1b6d5ea7",
   "metadata": {},
   "outputs": [],
   "source": [
    "app= FastAPI(\n",
    "    title=\"Insurance Claim Prediction Amount Model\",\n",
    "    description=\"API providong Insurance Claim Prediction Amount based on input features\"\n",
    ")"
   ]
  },
  {
   "cell_type": "code",
   "execution_count": 4,
   "id": "43984821-9774-4acd-bf42-056ee26b3621",
   "metadata": {},
   "outputs": [],
   "source": [
    "@app.get(\"/\")\n",
    "def index():\n",
    "    return \"Wecome\""
   ]
  },
  {
   "cell_type": "code",
   "execution_count": 8,
   "id": "79f6318b-9c27-4e49-b60e-5728db97d715",
   "metadata": {},
   "outputs": [],
   "source": [
    "@app.post(\"/predict\")\n",
    "def make_Prediction(claim:Claim):\n",
    "    new_data=pd.DataFrame(data=dict(\n",
    "        wind=[claim.wind],\n",
    "        rain=[claim.rain],\n",
    "        area=[claim.area]\n",
    "    ))\n",
    "    model=joblib.load(\"svm_Linear.joblib\")\n",
    "    model.predic"
   ]
  },
  {
   "cell_type": "code",
   "execution_count": null,
   "id": "4e0e4a31-c8d4-4fe5-a2f3-7706a0687ce4",
   "metadata": {},
   "outputs": [],
   "source": []
  }
 ],
 "metadata": {
  "kernelspec": {
   "display_name": "Python 3 (ipykernel)",
   "language": "python",
   "name": "python3"
  },
  "language_info": {
   "codemirror_mode": {
    "name": "ipython",
    "version": 3
   },
   "file_extension": ".py",
   "mimetype": "text/x-python",
   "name": "python",
   "nbconvert_exporter": "python",
   "pygments_lexer": "ipython3",
   "version": "3.12.2"
  }
 },
 "nbformat": 4,
 "nbformat_minor": 5
}
