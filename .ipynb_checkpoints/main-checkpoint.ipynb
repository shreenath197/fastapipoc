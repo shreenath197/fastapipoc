{
 "cells": [
  {
   "cell_type": "code",
   "execution_count": 1,
   "id": "d1da0e95-a0f0-4aa0-934a-f9bec9727b99",
   "metadata": {},
   "outputs": [],
   "source": [
    "from fastapi import FastAPI\n",
    "from claim_amount import Claim\n",
    "import pandas as pd"
   ]
  },
  {
   "cell_type": "code",
   "execution_count": 2,
   "id": "bfe92d59-9d9c-44f2-a026-ab0bcb34d13c",
   "metadata": {},
   "outputs": [],
   "source": [
    "app= FastAPI(\n",
    "    title=\"Insurance Claim Prediction Amount Model\",\n",
    "    description=\"API providong Insurance Claim Prediction Amount based on input features\"\n",
    ")"
   ]
  },
  {
   "cell_type": "code",
   "execution_count": 3,
   "id": "bd1e7d94-ffea-43bc-8295-92136ac8b5d8",
   "metadata": {},
   "outputs": [],
   "source": [
    "@app.get(\"/\")\n",
    "def index():\n",
    "    return \"Wecome\""
   ]
  },
  {
   "cell_type": "code",
   "execution_count": 4,
   "id": "dc77449b-821f-48d8-99c0-514da28a35a1",
   "metadata": {},
   "outputs": [],
   "source": [
    "@app.post(\"/predic\")\n",
    "def makePrediction(claim:Claim):\n",
    "    new_data=pd.DataFrame(data=dict(\n",
    "        wind=[claim.wind],\n",
    "        rain=[claim.rain],\n",
    "        area=[claim.area]\n",
    "    ))\n",
    "   "
   ]
  },
  {
   "cell_type": "code",
   "execution_count": 6,
   "id": "2d3b8aa3-1559-4124-be48-50bba120d242",
   "metadata": {},
   "outputs": [
    {
     "ename": "NameError",
     "evalue": "name 'new_input' is not defined",
     "output_type": "error",
     "traceback": [
      "\u001b[1;31m---------------------------------------------------------------------------\u001b[0m",
      "\u001b[1;31mNameError\u001b[0m                                 Traceback (most recent call last)",
      "Cell \u001b[1;32mIn[6], line 3\u001b[0m\n\u001b[0;32m      1\u001b[0m \u001b[38;5;28;01mimport\u001b[39;00m \u001b[38;5;21;01mjoblib\u001b[39;00m\n\u001b[0;32m      2\u001b[0m model\u001b[38;5;241m=\u001b[39mjoblib\u001b[38;5;241m.\u001b[39mload(\u001b[38;5;124m\"\u001b[39m\u001b[38;5;124msvm_Linear.joblib\u001b[39m\u001b[38;5;124m\"\u001b[39m)\n\u001b[1;32m----> 3\u001b[0m predicted_value\u001b[38;5;241m=\u001b[39mmodel\u001b[38;5;241m.\u001b[39mpredict(new_input)[\u001b[38;5;241m0\u001b[39m]\n\u001b[0;32m      4\u001b[0m \u001b[38;5;28;01mreturn\u001b[39;00m predicted_value\n",
      "\u001b[1;31mNameError\u001b[0m: name 'new_input' is not defined"
     ]
    }
   ],
   "source": [
    "import joblib\n",
    "model=joblib.load(\"svm_Linear.joblib\")\n",
    "predicted_value=model.predict(new_)[0]\n",
    "return predicted_value"
   ]
  },
  {
   "cell_type": "code",
   "execution_count": null,
   "id": "86a8e4a3-d08c-4cf7-a223-c08c3273af77",
   "metadata": {},
   "outputs": [],
   "source": []
  }
 ],
 "metadata": {
  "kernelspec": {
   "display_name": "Python 3 (ipykernel)",
   "language": "python",
   "name": "python3"
  },
  "language_info": {
   "codemirror_mode": {
    "name": "ipython",
    "version": 3
   },
   "file_extension": ".py",
   "mimetype": "text/x-python",
   "name": "python",
   "nbconvert_exporter": "python",
   "pygments_lexer": "ipython3",
   "version": "3.12.2"
  }
 },
 "nbformat": 4,
 "nbformat_minor": 5
}
